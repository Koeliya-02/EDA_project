{
 "cells": [
  {
   "cell_type": "code",
   "execution_count": 1,
   "metadata": {},
   "outputs": [],
   "source": [
    "import pandas as pd\n",
    "df = pd.read_csv(\"cleaned_data.csv\")"
   ]
  },
  {
   "cell_type": "code",
   "execution_count": 2,
   "metadata": {},
   "outputs": [],
   "source": [
    "ratio1 = 0.7  # 70% for part 1\n",
    "part1 = df.sample(frac=ratio1, random_state=42)  # Set random_state for reproducibility\n",
    "part2 = df.drop(part1.index)  # Efficiently exclude rows in part1\n"
   ]
  },
  {
   "cell_type": "code",
   "execution_count": 3,
   "metadata": {},
   "outputs": [
    {
     "name": "stdout",
     "output_type": "stream",
     "text": [
      "                                                    text  label\n",
      "27317  Nigger is gone. Period end of Story. Find a Ne...    1.0\n",
      "8875   More instant restaurants? Are you serioussssss...    0.0\n",
      "16871  ..........(((((((( . @illuminati_00 . ))))))))...    0.0\n",
      "39549  @FeInFL Good news is it is happening already. ...    0.0\n",
      "66005           and the gab became better because of it.    0.0\n",
      "...                                                  ...    ...\n",
      "76296  @KimJong-un Do you understand the phrase \"...l...    0.0\n",
      "67725  Van Sciver and other conservative comic pros h...    0.0\n",
      "34434            I say we shoot the nigger and the chink    1.0\n",
      "18982                               @scousebabe888 &lt;3    0.0\n",
      "3993   RT @STROCORLEONE @ThoughtsOfRandy @Yummys_Worl...    1.0\n",
      "\n",
      "[56559 rows x 2 columns]\n"
     ]
    }
   ],
   "source": [
    "print(part1)\n"
   ]
  },
  {
   "cell_type": "code",
   "execution_count": 4,
   "metadata": {},
   "outputs": [
    {
     "name": "stdout",
     "output_type": "stream",
     "text": [
      "                                                    text  label\n",
      "2      \"@Addicted2Guys: -SimplyAddictedToGuys http://...    0.0\n",
      "5      \"@ArizonasFinest6: Why the eggplant emoji doe?...    0.0\n",
      "14     \"@FloKid88: As long as the Lakers trash from n...    0.0\n",
      "15     \"@FunnyPicsDepot: this the \"I play soccer, che...    0.0\n",
      "16     \"@HermosaAlma: This isn't ghetto.....it's smar...    0.0\n",
      "...                                                  ...    ...\n",
      "80791  I used to think Hitler was a nefarious charact...    1.0\n",
      "80792  I obsess all day & night about how to take the...    1.0\n",
      "80794  Gotta say,\\nthe Apocalypse came early for Brow...    1.0\n",
      "80796            (((them))) ? are you referring to Jews?    1.0\n",
      "80798  (((((BREAKING)))))\\n\\nBRAND NEW Q POST!!! 1-26...    0.0\n",
      "\n",
      "[24240 rows x 2 columns]\n"
     ]
    }
   ],
   "source": [
    "print(part2)"
   ]
  },
  {
   "cell_type": "code",
   "execution_count": 5,
   "metadata": {},
   "outputs": [],
   "source": [
    "part1.to_csv('train_data.csv', index=False)\n",
    "part2.to_csv('test_data.csv', index=False)"
   ]
  },
  {
   "cell_type": "code",
   "execution_count": null,
   "metadata": {},
   "outputs": [],
   "source": []
  }
 ],
 "metadata": {
  "kernelspec": {
   "display_name": "Python 3",
   "language": "python",
   "name": "python3"
  },
  "language_info": {
   "codemirror_mode": {
    "name": "ipython",
    "version": 3
   },
   "file_extension": ".py",
   "mimetype": "text/x-python",
   "name": "python",
   "nbconvert_exporter": "python",
   "pygments_lexer": "ipython3",
   "version": "3.11.8"
  }
 },
 "nbformat": 4,
 "nbformat_minor": 2
}
